{
 "cells": [
  {
   "cell_type": "markdown",
   "metadata": {},
   "source": [
    "<p align=\"center\">\n",
    "<img src=\"./rf/img/창고.png\" width=\"400\" height= \"\" /> </center> <br>\n",
    "</p>"
   ]
  },
  {
   "cell_type": "code",
   "execution_count": 1,
   "metadata": {},
   "outputs": [],
   "source": [
    "# n = int(input())\n",
    "# build = [list(map(int,input().split())) for _ in range(n)]\n",
    "def solution(n, build) :\n",
    "    build.sort()\n",
    "    s1 = h1 = 0\n",
    "    s2 = h2 = 0\n",
    "    front = back = 0\n",
    "    for i in range(n) :\n",
    "        if build[i][1] - h1 > 0 : # 1부터 최대 높은 막대가 나타난다면 거기까지 면적 합\n",
    "            front += (build[i][0]-s1)*h1\n",
    "            s1 = build[i][0]\n",
    "            h1 = build[i][1]\n",
    "            cnt_h1 = 1 # 최대 높이 건물 개수\n",
    "            print('front : ' ,i, front) \n",
    "\n",
    "        elif build[i][1] == h1 : # 최대 높이의 건물이 여러 개인 경우 고려\n",
    "            cnt_h1 = build[i][0] - s1 + 1 # 건물 사이 거리 계산\n",
    "\n",
    "        if build[n-1-i][1] - h2 > 0 : # n-1부터 최대 높은 막대가 나타난다면 거기까지 면적 합\n",
    "            back += (s2-build[n-1-i][0])*h2\n",
    "            s2 = build[n-1-i][0]\n",
    "            h2 = build[n-1-i][1]\n",
    "            print('back : ' ,i, back)\n",
    "\n",
    "    print('max : ', h1*cnt_h1)\n",
    "    print('answer : ' ,front+back+h1*cnt_h1)"
   ]
  },
  {
   "cell_type": "code",
   "execution_count": 2,
   "metadata": {},
   "outputs": [
    {
     "name": "stdout",
     "output_type": "stream",
     "text": [
      "front :  0 0\n",
      "back :  0 0\n",
      "front :  1 8\n",
      "front :  3 32\n",
      "back :  3 56\n",
      "max :  10\n",
      "answer :  98\n"
     ]
    }
   ],
   "source": [
    "n = 7\n",
    "build = [[2,4],[11,4],[15,8],[4,6],[5,3],[8,10],[13,6]]\n",
    "solution(n , build)"
   ]
  },
  {
   "cell_type": "code",
   "execution_count": 3,
   "metadata": {},
   "outputs": [
    {
     "name": "stdout",
     "output_type": "stream",
     "text": [
      "front :  0 0\n",
      "back :  0 0\n",
      "front :  1 8\n",
      "front :  3 32\n",
      "back :  3 48\n",
      "max :  20\n",
      "answer :  100\n"
     ]
    }
   ],
   "source": [
    "n = 8\n",
    "build = [[2,4],[11,4],[15,8],[4,6],[5,3],[8,10],[13,6],[9,10]]\n",
    "\n",
    "solution(n, build)"
   ]
  }
 ],
 "metadata": {
  "kernelspec": {
   "display_name": "Python 3",
   "language": "python",
   "name": "python3"
  },
  "language_info": {
   "codemirror_mode": {
    "name": "ipython",
    "version": 3
   },
   "file_extension": ".py",
   "mimetype": "text/x-python",
   "name": "python",
   "nbconvert_exporter": "python",
   "pygments_lexer": "ipython3",
   "version": "3.9.13"
  }
 },
 "nbformat": 4,
 "nbformat_minor": 2
}
