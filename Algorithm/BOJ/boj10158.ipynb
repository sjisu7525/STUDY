{
 "cells": [
  {
   "cell_type": "markdown",
   "metadata": {},
   "source": [
    "<p align=\"center\">\n",
    "<img src=\"./rf/img/개미.PNG\" width=\"400\" height= \"\" /> </center> <br>\n",
    "</p>"
   ]
  },
  {
   "cell_type": "code",
   "execution_count": null,
   "metadata": {},
   "outputs": [],
   "source": [
    "############## 방법 1 : 델타 이용 ##############\n",
    "\n",
    "w, h = map(int, input().split())\n",
    "p, q = map(int, input().split()) # p : 열위치 , q : 행위치\n",
    "time = int(input())\n",
    "\n",
    "dir = [1,1] # [p방향, q방향]\n",
    "\n",
    "while time > 0 : # 주어진 시간 동안\n",
    "  time -= 1\n",
    "  np, nq = p + dir[0], q + dir[1] # 새로운 위치\n",
    "  if 0 <= np <= w and 0 <= nq <= h : # 새로운 위치가 범위 내에 있다면\n",
    "    p, q = np, nq  # p, q 업데이트   \n",
    "  else :\n",
    "    # 오른쪽/왼쪽 변에 부딪히면 p방향 변경, q방향 동일\n",
    "    if np < 0 or np > w : \n",
    "      dir[0] = -dir[0] # p방향 변경, q방향 동일\n",
    "    # 위쪽/아래쪽 변에 부딪히면 p방향 동일, q 방향 변경\n",
    "    if nq < 0 or nq > h :\n",
    "      dir[1] = -dir[1] # p방향 동일, q 방향 변경\n",
    "    p, q = p + dir[0], q + dir[1]\n",
    "print(p, q)\n"
   ]
  },
  {
   "cell_type": "code",
   "execution_count": null,
   "metadata": {},
   "outputs": [],
   "source": [
    "############## 방법 2 : x, y 따로 이용 ##############\n",
    "w, h = map(int, input().split())\n",
    "p, q = map(int, input().split()) # p : 열위치 , q : 행위치\n",
    "time = int(input())\n",
    "time1 = time2 = time\n",
    "\n",
    "if time1 <= w-p :\n",
    "  p += time1\n",
    "else :\n",
    "  time1 -= (w-p) # 맨 오른쪽변으로 이동\n",
    "  dir = (time1-1) // w # 가는 방향, time1으로 나누면 변으로 갈때 문제 발생\n",
    "  leng = (time1-1) % w # 가는 거리, time1으로 나누면 변으로 갈때 문제 발생\n",
    "  if dir % 2 == 0 : # 짝수일 경우 왼쪽으로 이동\n",
    "    p = w - (leng + 1)\n",
    "  else : # 홀수일 경우 오른쪽으로 이동\n",
    "    p = leng + 1\n",
    "\n",
    "if time2 <= h-q :\n",
    "  q += time2\n",
    "else :\n",
    "  time2 -= (h-q) # 맨 위쪽변으로 이동\n",
    "  dir = (time2-1) // h # 가는 방향\n",
    "  leng = (time2-1) % h # 가는 거리\n",
    "  if dir % 2 == 0 : # 짝수일 경우 아래쪽으로 이동\n",
    "    q = h - (leng + 1)\n",
    "  else : # 홀수일 경우 위쪽으로 이동\n",
    "    q = (leng + 1)\n",
    "\n",
    "print(p, q)"
   ]
  }
 ],
 "metadata": {
  "language_info": {
   "name": "python"
  }
 },
 "nbformat": 4,
 "nbformat_minor": 2
}
